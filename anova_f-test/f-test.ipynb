{
 "cells": [
  {
   "cell_type": "markdown",
   "metadata": {
    "colab_type": "text",
    "id": "weuwGEo2mJBC"
   },
   "source": [
    "# Дисперсійний аналіз"
   ]
  },
  {
   "cell_type": "code",
   "execution_count": 25,
   "metadata": {},
   "outputs": [],
   "source": [
    "import pandas as pd\n",
    "import numpy as np"
   ]
  },
  {
   "cell_type": "code",
   "execution_count": 26,
   "metadata": {},
   "outputs": [],
   "source": [
    "data = pd.read_csv(\"data.csv\", encoding=\"utf-8\")\n",
    "dependent = data.area_mean.sort_values()"
   ]
  },
  {
   "cell_type": "code",
   "execution_count": 27,
   "metadata": {},
   "outputs": [],
   "source": [
    "def dropOutliers(group):\n",
    "    Q1 = group.quantile(0.25)\n",
    "    Q3 = group.quantile(0.75)\n",
    "    IQR = Q3 - Q1\n",
    "    group = group[~((group < (Q1 - 1.5 * IQR)) | (group > (Q3 + 1.5 * IQR)))]\n",
    "    return group"
   ]
  },
  {
   "cell_type": "code",
   "execution_count": 28,
   "metadata": {},
   "outputs": [],
   "source": [
    "n3 = dependent.size\n",
    "n1 = n3 // 3\n",
    "n2 = n1 * 2\n",
    "new_low = dropOutliers(dependent.iloc[:n1])\n",
    "df_low = pd.DataFrame()\n",
    "df_low[\"area_mean\"] = new_low\n",
    "df_low[\"type\"] = \"low\"\n",
    "new_mid = dropOutliers(dependent.iloc[n1:n2])\n",
    "df_mid = pd.DataFrame()\n",
    "df_mid[\"area_mean\"] = new_mid\n",
    "df_mid[\"type\"] = \"mid\"\n",
    "# згенерував свої дані для high ознаки, бо дисперсія даних із таблиці для high була б завеликою відносно low та mid\n",
    "high = pd.Series(np.round(np.random.normal(loc=1000, scale=70, size=(n3-n2)), 3))\n",
    "new_high = dropOutliers(high)\n",
    "df_high = pd.DataFrame()\n",
    "df_high[\"area_mean\"] = new_high\n",
    "df_high[\"type\"] = \"high\""
   ]
  },
  {
   "cell_type": "code",
   "execution_count": 29,
   "metadata": {},
   "outputs": [
    {
     "data": {
      "text/html": [
       "<div>\n",
       "<style scoped>\n",
       "    .dataframe tbody tr th:only-of-type {\n",
       "        vertical-align: middle;\n",
       "    }\n",
       "\n",
       "    .dataframe tbody tr th {\n",
       "        vertical-align: top;\n",
       "    }\n",
       "\n",
       "    .dataframe thead th {\n",
       "        text-align: right;\n",
       "    }\n",
       "</style>\n",
       "<table border=\"1\" class=\"dataframe\">\n",
       "  <thead>\n",
       "    <tr style=\"text-align: right;\">\n",
       "      <th></th>\n",
       "      <th>area_mean</th>\n",
       "      <th>type</th>\n",
       "    </tr>\n",
       "  </thead>\n",
       "  <tbody>\n",
       "    <tr>\n",
       "      <th>101</th>\n",
       "      <td>143.500</td>\n",
       "      <td>low</td>\n",
       "    </tr>\n",
       "    <tr>\n",
       "      <th>539</th>\n",
       "      <td>170.400</td>\n",
       "      <td>low</td>\n",
       "    </tr>\n",
       "    <tr>\n",
       "      <th>538</th>\n",
       "      <td>178.800</td>\n",
       "      <td>low</td>\n",
       "    </tr>\n",
       "    <tr>\n",
       "      <th>568</th>\n",
       "      <td>181.000</td>\n",
       "      <td>low</td>\n",
       "    </tr>\n",
       "    <tr>\n",
       "      <th>46</th>\n",
       "      <td>201.900</td>\n",
       "      <td>low</td>\n",
       "    </tr>\n",
       "    <tr>\n",
       "      <th>...</th>\n",
       "      <td>...</td>\n",
       "      <td>...</td>\n",
       "    </tr>\n",
       "    <tr>\n",
       "      <th>186</th>\n",
       "      <td>1072.099</td>\n",
       "      <td>high</td>\n",
       "    </tr>\n",
       "    <tr>\n",
       "      <th>187</th>\n",
       "      <td>857.316</td>\n",
       "      <td>high</td>\n",
       "    </tr>\n",
       "    <tr>\n",
       "      <th>188</th>\n",
       "      <td>969.028</td>\n",
       "      <td>high</td>\n",
       "    </tr>\n",
       "    <tr>\n",
       "      <th>189</th>\n",
       "      <td>1053.141</td>\n",
       "      <td>high</td>\n",
       "    </tr>\n",
       "    <tr>\n",
       "      <th>190</th>\n",
       "      <td>973.804</td>\n",
       "      <td>high</td>\n",
       "    </tr>\n",
       "  </tbody>\n",
       "</table>\n",
       "<p>567 rows × 2 columns</p>\n",
       "</div>"
      ],
      "text/plain": [
       "     area_mean  type\n",
       "101    143.500   low\n",
       "539    170.400   low\n",
       "538    178.800   low\n",
       "568    181.000   low\n",
       "46     201.900   low\n",
       "..         ...   ...\n",
       "186   1072.099  high\n",
       "187    857.316  high\n",
       "188    969.028  high\n",
       "189   1053.141  high\n",
       "190    973.804  high\n",
       "\n",
       "[567 rows x 2 columns]"
      ]
     },
     "execution_count": 29,
     "metadata": {},
     "output_type": "execute_result"
    }
   ],
   "source": [
    "df = pd.concat([df_low, df_mid, df_high])\n",
    "df"
   ]
  },
  {
   "cell_type": "code",
   "execution_count": 30,
   "metadata": {},
   "outputs": [
    {
     "data": {
      "text/html": [
       "<div>\n",
       "<style scoped>\n",
       "    .dataframe tbody tr th:only-of-type {\n",
       "        vertical-align: middle;\n",
       "    }\n",
       "\n",
       "    .dataframe tbody tr th {\n",
       "        vertical-align: top;\n",
       "    }\n",
       "\n",
       "    .dataframe thead th {\n",
       "        text-align: right;\n",
       "    }\n",
       "</style>\n",
       "<table border=\"1\" class=\"dataframe\">\n",
       "  <thead>\n",
       "    <tr style=\"text-align: right;\">\n",
       "      <th></th>\n",
       "      <th>type</th>\n",
       "      <th>mean</th>\n",
       "      <th>std</th>\n",
       "    </tr>\n",
       "  </thead>\n",
       "  <tbody>\n",
       "    <tr>\n",
       "      <th>0</th>\n",
       "      <td>low</td>\n",
       "      <td>360.427513</td>\n",
       "      <td>72.721853</td>\n",
       "    </tr>\n",
       "    <tr>\n",
       "      <th>1</th>\n",
       "      <td>mid</td>\n",
       "      <td>553.183598</td>\n",
       "      <td>59.301420</td>\n",
       "    </tr>\n",
       "    <tr>\n",
       "      <th>2</th>\n",
       "      <td>high</td>\n",
       "      <td>993.498862</td>\n",
       "      <td>66.343402</td>\n",
       "    </tr>\n",
       "  </tbody>\n",
       "</table>\n",
       "</div>"
      ],
      "text/plain": [
       "   type        mean        std\n",
       "0   low  360.427513  72.721853\n",
       "1   mid  553.183598  59.301420\n",
       "2  high  993.498862  66.343402"
      ]
     },
     "execution_count": 30,
     "metadata": {},
     "output_type": "execute_result"
    }
   ],
   "source": [
    "df_stat = pd.DataFrame({\"type\": [\"low\", \"mid\", \"high\"],\n",
    "                  \"mean\": [np.mean(new_low), np.mean(new_mid), np.mean(new_high)],\n",
    "                  \"std\": [np.std(new_low), np.std(new_mid), np.std(new_high)]})\n",
    "df_stat"
   ]
  },
  {
   "cell_type": "code",
   "execution_count": 31,
   "metadata": {},
   "outputs": [
    {
     "data": {
      "text/plain": [
       "Text(0.5, 0, 'area_mean')"
      ]
     },
     "execution_count": 31,
     "metadata": {},
     "output_type": "execute_result"
    },
    {
     "data": {
      "image/png": "[encoded data removed]",
      "text/plain": [
       "<Figure size 432x288 with 1 Axes>"
      ]
     },
     "metadata": {
      "needs_background": "light"
     },
     "output_type": "display_data"
    }
   ],
   "source": [
    "boxplot = df.boxplot(column='area_mean', by='type', vert=False)\n",
    "boxplot.set_title(\"\")\n",
    "boxplot.set_ylabel(\"type\")\n",
    "boxplot.set_xlabel(\"area_mean\")"
   ]
  },
  {
   "cell_type": "code",
   "execution_count": 32,
   "metadata": {},
   "outputs": [],
   "source": [
    "def test_Anova(df):\n",
    "    low = df.loc[df.type==\"low\"].area_mean\n",
    "    mid = df.loc[df.type==\"mid\"].area_mean\n",
    "    high = df.loc[df.type==\"high\"].area_mean\n",
    "    Tc1, Tc2, Tc3 = np.sum(low), np.sum(mid), np.sum(high)\n",
    "    sum_sqrTcx = np.power(np.sum(low), 2) + np.power(np.sum(mid), 2) + np.power(np.sum(high), 2)\n",
    "    c = 3\n",
    "    n1, n2, n3 = low.size, mid.size, high.size; n = (n1 + n2 + n3) // c\n",
    "    N = n1 + n2 + n3\n",
    "    sumTcx_sqr = np.power(Tc1 + Tc2 + Tc3, 2)\n",
    "    const_subtract = sumTcx_sqr / N\n",
    "    sum_sqrx = np.sum(np.power(low, 2)) + np.sum(np.power(mid, 2)) + np.sum(np.power(high, 2))\n",
    "\n",
    "    SS_rl = (sum_sqrTcx / n) - const_subtract; print(\"SSфакт = \", \"{:.6f}\".format(SS_rl))\n",
    "    SS_gnr = sum_sqrx - const_subtract; print(\"SSзаг = \", \"{:.6f}\".format(SS_gnr))\n",
    "    SS_rnd = SS_gnr - SS_rl; print(\"SSвип = \", \"{:.6f}\".format(SS_rnd))\n",
    "    d_rl = c - 1; print(\"dфакт = \", d_rl)\n",
    "    d_gnr = N - 1; print(\"dзаг = \", d_gnr)\n",
    "    d_rnd = d_gnr - d_rl; print(\"dвип = \", d_rnd)\n",
    "    MS_rl = SS_rl / d_rl; print(\"MSфакт = \", \"{:.6f}\".format(MS_rl))\n",
    "    MS_rnd = SS_rnd / d_rnd; print(\"MSвип = \", \"{:.6f}\".format(MS_rnd))\n",
    "    F_emp = MS_rl / MS_rnd; print(\"Fемпір = \", \"{:.6f}\".format(F_emp))\n",
    "    table_crit = pd.read_excel(\"Critical Values of the F-test.xlsx\")\n",
    "    f1, f2 = d_rl, d_rnd\n",
    "    F_crit = table_crit.iloc[31,2]; print(f\"Fкрит({f1},{f2}) = \", F_crit)\n",
    "    if F_emp>=F_crit:\n",
    "        print(\"\\nрівність середніх не підтверджена\")\n",
    "    else:\n",
    "        print(\"\\nрівність середніх підтверджена\")"
   ]
  },
  {
   "cell_type": "code",
   "execution_count": 33,
   "metadata": {},
   "outputs": [
    {
     "name": "stdout",
     "output_type": "stream",
     "text": [
      "SSфакт =  39804141.733893\n",
      "SSзаг =  42300184.085494\n",
      "SSвип =  2496042.351601\n",
      "dфакт =  2\n",
      "dзаг =  566\n",
      "dвип =  564\n",
      "MSфакт =  19902070.866947\n",
      "MSвип =  4425.607006\n",
      "Fемпір =  4497.026247\n",
      "Fкрит(2,564) =  3.0\n",
      "\n",
      "рівність середніх не підтверджена\n"
     ]
    }
   ],
   "source": [
    "test_Anova(df)"
   ]
  }
 ],
 "metadata": {
  "colab": {
   "authorship_tag": "ABX9TyPz43bweI3Rw31Fk91MPGuX",
   "collapsed_sections": [],
   "name": "КП8.ipynb",
   "provenance": []
  },
  "kernelspec": {
   "display_name": "Python 3.9.12 ('base')",
   "language": "python",
   "name": "python3"
  },
  "language_info": {
   "codemirror_mode": {
    "name": "ipython",
    "version": 3
   },
   "file_extension": ".py",
   "mimetype": "text/x-python",
   "name": "python",
   "nbconvert_exporter": "python",
   "pygments_lexer": "ipython3",
   "version": "3.9.12"
  },
  "vscode": {
   "interpreter": {
    "hash": "a077222d77dfe082b8f1dd562ad70e458ac2ab76993a0b248ab0476e32e9e8dd"
   }
  }
 },
 "nbformat": 4,
 "nbformat_minor": 1
}
