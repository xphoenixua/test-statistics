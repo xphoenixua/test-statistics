{
 "cells": [
  {
   "cell_type": "markdown",
   "metadata": {
    "id": "nVYjIYs6RrPC"
   },
   "source": [
    "# Парний t-критерій Стьюдента"
   ]
  },
  {
   "cell_type": "code",
   "execution_count": 9,
   "metadata": {},
   "outputs": [],
   "source": [
    "import numpy as np\n",
    "import pandas as pd"
   ]
  },
  {
   "cell_type": "code",
   "execution_count": 10,
   "metadata": {},
   "outputs": [],
   "source": [
    "group_1 = np.random.normal(loc=10, scale=0.5, size=25)\n",
    "rule = lambda x: x * 1.5 + np.random.random() * 0.2\n",
    "group_2 = rule(group_1)"
   ]
  },
  {
   "cell_type": "code",
   "execution_count": 11,
   "metadata": {},
   "outputs": [
    {
     "data": {
      "text/html": [
       "<div>\n",
       "<style scoped>\n",
       "    .dataframe tbody tr th:only-of-type {\n",
       "        vertical-align: middle;\n",
       "    }\n",
       "\n",
       "    .dataframe tbody tr th {\n",
       "        vertical-align: top;\n",
       "    }\n",
       "\n",
       "    .dataframe thead th {\n",
       "        text-align: right;\n",
       "    }\n",
       "</style>\n",
       "<table border=\"1\" class=\"dataframe\">\n",
       "  <thead>\n",
       "    <tr style=\"text-align: right;\">\n",
       "      <th></th>\n",
       "      <th>Група 1</th>\n",
       "      <th>Група 2</th>\n",
       "    </tr>\n",
       "  </thead>\n",
       "  <tbody>\n",
       "    <tr>\n",
       "      <th>0</th>\n",
       "      <td>9.395654</td>\n",
       "      <td>14.229030</td>\n",
       "    </tr>\n",
       "    <tr>\n",
       "      <th>1</th>\n",
       "      <td>8.668678</td>\n",
       "      <td>13.138566</td>\n",
       "    </tr>\n",
       "    <tr>\n",
       "      <th>2</th>\n",
       "      <td>10.709351</td>\n",
       "      <td>16.199574</td>\n",
       "    </tr>\n",
       "    <tr>\n",
       "      <th>3</th>\n",
       "      <td>9.724716</td>\n",
       "      <td>14.722622</td>\n",
       "    </tr>\n",
       "    <tr>\n",
       "      <th>4</th>\n",
       "      <td>10.112307</td>\n",
       "      <td>15.304009</td>\n",
       "    </tr>\n",
       "  </tbody>\n",
       "</table>\n",
       "</div>"
      ],
      "text/plain": [
       "     Група 1    Група 2\n",
       "0   9.395654  14.229030\n",
       "1   8.668678  13.138566\n",
       "2  10.709351  16.199574\n",
       "3   9.724716  14.722622\n",
       "4  10.112307  15.304009"
      ]
     },
     "execution_count": 11,
     "metadata": {},
     "output_type": "execute_result"
    }
   ],
   "source": [
    "data = pd.DataFrame({\"Група 1\": group_1, \"Група 2\": group_2})\n",
    "data.head()"
   ]
  },
  {
   "cell_type": "code",
   "execution_count": 12,
   "metadata": {},
   "outputs": [],
   "source": [
    "boxplot = data.boxplot(vert=False)"
   ]
  },
  {
   "cell_type": "code",
   "execution_count": 13,
   "metadata": {},
   "outputs": [],
   "source": [
    "def test_corrPearson(data):\n",
    "    def corr_strength(r_emp, r_crit):\n",
    "        if r_emp>0 and r_emp<=0.3:\n",
    "            return \"very low\"\n",
    "        elif r_emp>0.3 and r_emp<=0.5:\n",
    "            return \"low\"\n",
    "        elif r_emp>0.5 and r_emp<=0.7:\n",
    "            return \"medium\"\n",
    "        elif r_emp>0.7 and r_emp<=0.9:\n",
    "            return \"high\"\n",
    "        elif r_emp>0.9 and r_emp<=1:\n",
    "            return \"very high\"\n",
    "    \n",
    "    n = len(data.iloc[:,0])\n",
    "    x, y = data.iloc[:,0], data.iloc[:,1]\n",
    "    r_emp = (n * np.sum(x*y) - np.sum(x) * np.sum(y)) / np.sqrt((n * np.sum(x**2) - np.sum(x)**2) * (n * np.sum(y**2) - np.sum(y)**2))\n",
    "    r_emp = np.round(abs(r_emp), 6)\n",
    "    df = n - 2\n",
    "    table_crit = pd.read_excel(\"Critical Values of the correlational analysis.xlsx\")\n",
    "    r_crit = table_crit.loc[df-1, 0.05]\n",
    "    strength = corr_strength(r_emp, r_crit)\n",
    "    if r_emp>r_crit:\n",
    "        conclusion = \"significant\" + f\" ({strength})\"\n",
    "    else:\n",
    "        conclusion = \"not significant\" + f\" ({strength})\"\n",
    "    return (r_emp, df, conclusion)"
   ]
  },
  {
   "cell_type": "code",
   "execution_count": 14,
   "metadata": {},
   "outputs": [],
   "source": [
    "def test_meanStudent(data):\n",
    "    n = len(data.iloc[:,0])\n",
    "    x, y = data.iloc[:,0], data.iloc[:,1]\n",
    "    d = x - y\n",
    "    mean = np.mean(d)\n",
    "    std = np.std(d)\n",
    "    t_emp = (mean / std) * np.sqrt(n)\n",
    "    t_emp = np.round(abs(t_emp), 6)\n",
    "    df = n - 1\n",
    "    table_crit = pd.read_excel(\"Critical Values of the Paired t-test.xlsx\")\n",
    "    t_crit = table_crit.loc[df-1, 0.05]\n",
    "    if t_emp>t_crit:\n",
    "        conclusion = \"significant\"\n",
    "    else:\n",
    "        conclusion = \"not significant\"\n",
    "    return (t_emp, df, conclusion)\n"
   ]
  },
  {
   "cell_type": "code",
   "execution_count": 15,
   "metadata": {},
   "outputs": [
    {
     "data": {
      "text/plain": [
       "(1.0, 23, 'significant (very high)')"
      ]
     },
     "execution_count": 15,
     "metadata": {},
     "output_type": "execute_result"
    }
   ],
   "source": [
    "test_corrPearson(data)"
   ]
  },
  {
   "cell_type": "code",
   "execution_count": 16,
   "metadata": {},
   "outputs": [
    {
     "data": {
      "text/plain": [
       "(96.27969, 24, 'significant')"
      ]
     },
     "execution_count": 16,
     "metadata": {},
     "output_type": "execute_result"
    }
   ],
   "source": [
    "test_meanStudent(data)"
   ]
  }
 ],
 "metadata": {
  "colab": {
   "authorship_tag": "ABX9TyOHxhbRTs39T3tGJAbKuVhn",
   "name": "Tast6.ipynb",
   "provenance": []
  },
  "kernelspec": {
   "display_name": "Python 3.9.13 64-bit (microsoft store)",
   "language": "python",
   "name": "python3"
  },
  "language_info": {
   "codemirror_mode": {
    "name": "ipython",
    "version": 3
   },
   "file_extension": ".py",
   "mimetype": "text/x-python",
   "name": "python",
   "nbconvert_exporter": "python",
   "pygments_lexer": "ipython3",
   "version": "3.9.13"
  },
  "vscode": {
   "interpreter": {
    "hash": "497338f01161d141240caa60efca5087225791fadc9b7c964beb65d863e046f0"
   }
  }
 },
 "nbformat": 4,
 "nbformat_minor": 1
}
